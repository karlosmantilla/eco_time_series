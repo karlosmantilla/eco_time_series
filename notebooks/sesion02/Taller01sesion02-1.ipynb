{
 "cells": [
  {
   "cell_type": "markdown",
   "metadata": {},
   "source": [
    "<center>\n",
    "    <h1><font size=\"16\">ESCUELA DE ECONOMÍA Y ADMINISTRACIÓN</font></h1>\n",
    "    <h1><font size=\"12\">ECONOMETRÍA DE SERIES DE TIEMPO</font></h1>\n",
    "</center>"
   ]
  },
  {
   "cell_type": "markdown",
   "metadata": {},
   "source": [
    "<h2>🧪 Taller práctico: Métodos de Suavizamiento y Regresión</h2>\n",
    "\n",
    "<h3>🎯 Objetivo</h3>\n",
    "\n",
    "Aplicar modelos de suavizamiento (Holt-Winters) y regresión lineal sobre una serie temporal real, evaluando su ajuste, pronóstico y validez.\n",
    "\n",
    "**📦 Dataset sugerido**\n",
    "\n",
    "- `AirPassengers` (disponible por defecto)\n",
    "- O una serie personalizada que contenga tendencia y estacionalidad clara (ventas mensuales, consumo eléctrico, visitantes, etc.).\n",
    "\n",
    "---\n",
    "\n",
    "<h3>🧭 Actividades</h3>\n",
    "\n",
    "🔹 **1. Exploración inicial**\n",
    "\n",
    "1.1. Carga la serie y conviértela a un objeto `tsibble`  \n",
    "1.2. Visualiza la serie original y describe brevemente su comportamiento\n"
   ]
  },
  {
   "cell_type": "code",
   "execution_count": null,
   "metadata": {},
   "outputs": [],
   "source": [
    "# librerías necesarias\n",
    "library(forecast)\n",
    "library(ggplot2)\n",
    "library(fpp3)\n",
    "library(yardstick)\n",
    "library(dplyr)"
   ]
  },
  {
   "cell_type": "code",
   "execution_count": null,
   "metadata": {},
   "outputs": [],
   "source": [
    "ap <- as_tsibble(AirPassengers)\n",
    "\n",
    "autoplot(ap) +\n",
    "  ggtitle(\"Serie original: pasajeros mensuales\") +\n",
    "  theme_minimal()\n"
   ]
  },
  {
   "cell_type": "markdown",
   "metadata": {},
   "source": [
    "🔹 **2. Suavizamiento con Holt-Winters**\n",
    "\n",
    "2.1. Ajusta dos modelos Holt-Winters:\n",
    "\n",
    "- Uno con componente **aditiva**\n",
    "- Otro con componente **multiplicativa**\n",
    "\n",
    "2.2. Compara los pronósticos a 12 pasos vista\n"
   ]
  },
  {
   "cell_type": "code",
   "execution_count": null,
   "metadata": {},
   "outputs": [],
   "source": [
    "modelo_hw_add <- hw(AirPassengers, seasonal = \"additive\", h = 12)\n",
    "modelo_hw_mult <- hw(AirPassengers, seasonal = \"multiplicative\", h = 12)\n",
    "\n",
    "autoplot(modelo_hw_add) + ggtitle(\"Holt-Winters aditivo\") + theme_minimal()\n",
    "autoplot(modelo_hw_mult) + ggtitle(\"Holt-Winters multiplicativo\") + theme_minimal()\n"
   ]
  },
  {
   "cell_type": "markdown",
   "metadata": {},
   "source": [
    "2.3. ¿Cuál se ajusta mejor a la dinámica observada?\n",
    "\n",
    "---\n",
    "\n",
    "🔹 **3. Regresión lineal simple y múltiple**\n",
    "\n",
    "3.1. Crea una variable de tendencia:\n"
   ]
  },
  {
   "cell_type": "code",
   "execution_count": null,
   "metadata": {},
   "outputs": [],
   "source": [
    "ap <- ap %>%\n",
    "  mutate(t = row_number())\n"
   ]
  },
  {
   "cell_type": "markdown",
   "metadata": {},
   "source": [
    "3.2. Ajusta un modelo de regresión lineal simple:  \n",
    "$$\n",
    "Y_t = \\beta_0 + \\beta_1 t + \\varepsilon_t\n",
    "$$\n",
    "\n",
    "3.3. Ajusta un modelo múltiple con estacionalidad:"
   ]
  },
  {
   "cell_type": "code",
   "execution_count": null,
   "metadata": {},
   "outputs": [],
   "source": [
    "modelo_rlm <- ap %>%\n",
    "  model(RLM = TSLM(value ~ t + season()))\n",
    "\n",
    "report(modelo_rlm)"
   ]
  },
  {
   "cell_type": "markdown",
   "metadata": {},
   "source": [
    "3.4. Genera el `new_data()` y calcula el pronóstico"
   ]
  },
  {
   "cell_type": "code",
   "execution_count": null,
   "metadata": {},
   "outputs": [],
   "source": [
    "new_data <- ap %>%\n",
    "  new_data(n = 12) %>%\n",
    "  mutate(t = max(ap$t) + 1:12)\n",
    "\n",
    "forecast(modelo_rlm, new_data = new_data) %>%\n",
    "  autoplot(ap) +\n",
    "  theme_minimal()\n"
   ]
  },
  {
   "cell_type": "markdown",
   "metadata": {},
   "source": [
    "🔹 **4. Análisis de residuos**\n",
    "\n",
    "4.1. Visualiza residuos del modelo RLM:\n"
   ]
  },
  {
   "cell_type": "code",
   "execution_count": null,
   "metadata": {},
   "outputs": [],
   "source": [
    "modelo_rlm %>% gg_tsresiduals()"
   ]
  },
  {
   "cell_type": "markdown",
   "metadata": {},
   "source": [
    "4.2. Comenta si los residuos parecen ruido blanco, o si hay evidencia de autocorrelación o patrón estacional no capturado.\n",
    "\n",
    "---\n",
    "\n",
    "🔹 **5. Comparación final**\n",
    "\n",
    "5.1. Calcula las métricas de precisión (`accuracy()`) para Holt-Winters aditivo, multiplicativo y el modelo RLM (si es posible).\n"
   ]
  },
  {
   "cell_type": "code",
   "execution_count": null,
   "metadata": {},
   "outputs": [],
   "source": [
    "# library(forecast)\n",
    "\n",
    "forecast::accuracy(modelo_hw_add) %>% t() %>% print()\n",
    "forecast::accuracy(modelo_hw_mult) %>% t() %>% print()"
   ]
  },
  {
   "cell_type": "code",
   "execution_count": null,
   "metadata": {},
   "outputs": [],
   "source": [
    "# library(yardstick)\n",
    "# library(dplyr)\n",
    "\n",
    "# Obtener valores ajustados\n",
    "ajuste_rlm <- augment(modelo_rlm)\n",
    "\n",
    "# Calcular métricas comparando truth y estimate\n",
    "ajuste_rlm %>%\n",
    "  metrics(truth = value, estimate = .fitted) %>%\n",
    "  print()\n"
   ]
  },
  {
   "cell_type": "code",
   "execution_count": null,
   "metadata": {},
   "outputs": [],
   "source": [
    "# Obtener accuracy() para modelos Holt-Winters\n",
    "acc_hw_add <- forecast::accuracy(modelo_hw_add) %>%\n",
    "  as_tibble(rownames = \"Conjunto\") %>%\n",
    "  filter(Conjunto == \"Training set\") %>%\n",
    "  transmute(\n",
    "    Modelo = \"Holt-Winters Aditivo\",\n",
    "    RMSE = RMSE,\n",
    "    MAE = MAE,\n",
    "    MAPE = MAPE,\n",
    "    ACF1 = ACF1,\n",
    "    R2 = NA_real_\n",
    "  )\n",
    "\n",
    "acc_hw_mult <- forecast::accuracy(modelo_hw_mult) %>%\n",
    "  as_tibble(rownames = \"Conjunto\") %>%\n",
    "  filter(Conjunto == \"Training set\") %>%\n",
    "  transmute(\n",
    "    Modelo = \"Holt-Winters Multiplicativo\",\n",
    "    RMSE = RMSE,\n",
    "    MAE = MAE,\n",
    "    MAPE = MAPE,\n",
    "    ACF1 = ACF1,\n",
    "    R2 = NA_real_\n",
    "  )\n",
    "\n",
    "# Obtener métricas del modelo de regresión (ajuste en muestra)\n",
    "acc_rlm <- ajuste_rlm %>%\n",
    "  metrics(truth = value, estimate = .fitted) %>%\n",
    "  select(.metric, .estimate) %>%\n",
    "  pivot_wider(names_from = .metric, values_from = .estimate) %>%\n",
    "  transmute(\n",
    "    Modelo = \"Regresión Lineal (TSLM)\",\n",
    "    RMSE = rmse,\n",
    "    MAE = mae,\n",
    "    MAPE = NA_real_,\n",
    "    ACF1 = NA_real_,\n",
    "    R2 = rsq\n",
    "  )\n",
    "\n",
    "# Unir todo en una tabla comparativa\n",
    "tabla_modelos <- bind_rows(acc_hw_add, acc_hw_mult, acc_rlm)\n",
    "\n",
    "# Mostrar\n",
    "print(tabla_modelos)\n"
   ]
  },
  {
   "cell_type": "markdown",
   "metadata": {},
   "source": [
    "5.2. ¿Cuál modelo resulta más adecuado para esta serie?\n",
    "\n",
    "---\n",
    "\n",
    "<h3>🧠 Preguntas de reflexión</h3>\n",
    "\n",
    "- ¿Cómo influye la elección aditiva vs multiplicativa en la calidad del pronóstico?\n",
    "- ¿Qué ventajas aporta un modelo de regresión frente a uno puramente estructural como Holt-Winters?\n",
    "- ¿Qué harías si los residuos presentan estacionalidad no explicada?\n"
   ]
  }
 ],
 "metadata": {
  "kernelspec": {
   "display_name": "R",
   "language": "R",
   "name": "ir"
  },
  "language_info": {
   "codemirror_mode": "r",
   "file_extension": ".r",
   "mimetype": "text/x-r-source",
   "name": "R",
   "pygments_lexer": "r",
   "version": "4.5.0"
  }
 },
 "nbformat": 4,
 "nbformat_minor": 5
}
