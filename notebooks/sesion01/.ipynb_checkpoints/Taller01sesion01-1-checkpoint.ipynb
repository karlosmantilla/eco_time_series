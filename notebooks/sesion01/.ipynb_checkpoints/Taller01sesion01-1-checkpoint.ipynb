{
 "cells": [
  {
   "cell_type": "markdown",
   "metadata": {},
   "source": [
    "<center>\n",
    "    <h1><font size=\"16\">ESCUELA DE ECONOMÍA Y ADMINISTRACIÓN</font></h1>\n",
    "    <h1><font size=\"12\">ECONOMETRÍA DE SERIES DE TIEMPO</font></h1>\n",
    "</center>"
   ]
  },
  {
   "cell_type": "markdown",
   "metadata": {},
   "source": [
    "<h2>🛠️ Taller Práctico: Exploración gráfica de series de tiempo en R</h2>\n",
    "\n",
    "<h3>🎯 Objetivo</h3>\n",
    "\n",
    "Familiarizarse con la exploración gráfica de series temporales usando librerías del entorno R. El objetivo no es aún modelar, sino entender la estructura visual de los datos: tendencias, estacionalidades, variabilidad e irregularidades.\n",
    "\n",
    "---\n",
    "\n",
    "<h3>📦 Requisitos</h3>\n",
    "\n",
    "Librerías para la visualización:"
   ]
  },
  {
   "cell_type": "code",
   "execution_count": null,
   "metadata": {},
   "outputs": [],
   "source": [
    "# Instalar solo si no están previamente\n",
    "# install.packages(c(\"forecast\", \"fpp3\", \"ggplot2\", \"tsibble\", \"tibbletime\", \"patchwork\"))"
   ]
  },
  {
   "cell_type": "markdown",
   "metadata": {},
   "source": [
    "<h3>✏️ Actividades propuestas</h3>\n",
    "\n",
    "<h4> 1. Carga y visualización básica</h4>\n",
    "\n",
    "**✈️ Dataset: AirPassengers**\n",
    "\n",
    "- 🧾 Descripción general\n",
    "\n",
    "El conjunto de datos `AirPassengers` es una serie de tiempo clásica integrada en R que contiene el número mensual de pasajeros (en miles) transportados por aerolíneas internacionales con sede en los Estados Unidos.\n",
    "\n",
    "    - Periodo: Enero de 1949 a diciembre de 1960\n",
    "    - Frecuencia: Mensual (12 observaciones por año)\n",
    "    - Número total de observaciones: 144\n",
    "    - Unidad: Miles de pasajeros\n",
    "    - Tipo de objeto: ts (serie temporal univariada)\n",
    "    "
   ]
  },
  {
   "cell_type": "code",
   "execution_count": null,
   "metadata": {},
   "outputs": [],
   "source": [
    "library(forecast)\n",
    "library(ggplot2)\n",
    "\n",
    "data(\"AirPassengers\")\n",
    "\n",
    "autoplot(AirPassengers) +\n",
    "  ggtitle(\"Serie de pasajeros mensuales (1949–1960)\") +\n",
    "  ylab(\"Pasajeros (en miles)\") +\n",
    "  xlab(\"Año\") +\n",
    "  theme_minimal()\n"
   ]
  },
  {
   "cell_type": "markdown",
   "metadata": {},
   "source": [
    "- ¿Observas tendencia? ¿Estacionalidad?\n",
    "- ¿Cómo cambia la variabilidad a lo largo del tiempo?\n",
    "\n",
    "---\n",
    "\n",
    "<h4>2. Visualización estacional</h4>"
   ]
  },
  {
   "cell_type": "code",
   "execution_count": null,
   "metadata": {},
   "outputs": [],
   "source": [
    "ggseasonplot(AirPassengers,\n",
    "             year.labels = TRUE,\n",
    "             col = rainbow(12),\n",
    "             main = \"Estacionalidad por mes en AirPassengers\") +\n",
    "theme_minimal()\n"
   ]
  },
  {
   "cell_type": "markdown",
   "metadata": {},
   "source": [
    "- ¿Qué meses tienen máximos y mínimos históricos?\n",
    "- ¿Hay regularidad entre años?\n",
    "\n",
    "---\n",
    "\n",
    "<h4>3. Visualización con librerías no tradicionales</h4>\n"
   ]
  },
  {
   "cell_type": "code",
   "execution_count": null,
   "metadata": {
    "scrolled": false
   },
   "outputs": [],
   "source": [
    "library(fpp3)\n",
    "\n",
    "# Convertir serie clásica a tsibble\n",
    "ap_tsibble <- as_tsibble(AirPassengers)\n",
    "\n",
    "print(ap_tsibble)"
   ]
  },
  {
   "cell_type": "code",
   "execution_count": null,
   "metadata": {},
   "outputs": [],
   "source": [
    "# Visualización moderna\n",
    "ap_tsibble %>%\n",
    "  autoplot(value) +\n",
    "  ggtitle(\"Serie convertida a tsibble\") +\n",
    "  ylab(\"Pasajeros (en miles)\") +\n",
    "  xlab(\"Año\") +\n",
    "  theme_minimal()"
   ]
  },
  {
   "cell_type": "markdown",
   "metadata": {},
   "source": [
    "<h4>🧠 Reflexión</h4>\n",
    "\n",
    "- ¿Qué diferencias encuentras entre las visualizaciones clásicas y las de `fpp3`?\n",
    "- ¿Qué ventajas tiene `tsibble` para el trabajo con múltiples series?\n",
    "- ¿Cómo puede ayudarte la visualización a detectar errores de entrada o rupturas?\n"
   ]
  }
 ],
 "metadata": {
  "kernelspec": {
   "display_name": "R",
   "language": "R",
   "name": "ir"
  },
  "language_info": {
   "codemirror_mode": "r",
   "file_extension": ".r",
   "mimetype": "text/x-r-source",
   "name": "R",
   "pygments_lexer": "r",
   "version": "4.5.0"
  }
 },
 "nbformat": 4,
 "nbformat_minor": 5
}
