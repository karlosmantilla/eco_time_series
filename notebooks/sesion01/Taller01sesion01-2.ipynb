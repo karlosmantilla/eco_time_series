{
 "cells": [
  {
   "cell_type": "markdown",
   "metadata": {},
   "source": [
    "<center>\n",
    "    <h1><font size=\"16\">ESCUELA DE ECONOMÍA Y ADMINISTRACIÓN</font></h1>\n",
    "    <h1><font size=\"12\">ECONOMETRÍA DE SERIES DE TIEMPO</font></h1>\n",
    "</center>"
   ]
  },
  {
   "cell_type": "markdown",
   "metadata": {},
   "source": [
    "<h2>🛠️ Taller práctico: Descomposición y métodos clásicos de suavizamiento</h2>\n",
    "\n",
    "<h3>📋 Objetivo general</h3>\n",
    "\n",
    "Aplicar técnicas de descomposición y métodos de suavizamiento (medias móviles y exponenciales) a series temporales reales para interpretar su estructura, visualizar patrones y construir pronósticos simples.\n",
    "\n",
    "---\n",
    "\n",
    "<h3>🔧 Requisitos previos</h3>\n",
    "\n",
    "- Haber cargado las siguientes librerías:\n"
   ]
  },
  {
   "cell_type": "code",
   "execution_count": null,
   "metadata": {},
   "outputs": [],
   "source": [
    "library(fpp3)\n",
    "library(forecast)\n",
    "library(slider)\n",
    "library(ggplot2)"
   ]
  },
  {
   "cell_type": "markdown",
   "metadata": {},
   "source": [
    "<h3> 📌 Parte 1: Cargar y explorar los datos</h3>\n",
    "\n",
    "**▶️ Actividad 1: Selección y visualización de la serie**\n",
    "\n",
    "- Cargar una serie de tiempo real (sugerencia: `AirPassengers`, `aus_retail`, `gas` o una serie propia).\n",
    "- Visualizar la serie y explorar su comportamiento.\n"
   ]
  },
  {
   "cell_type": "code",
   "execution_count": null,
   "metadata": {},
   "outputs": [],
   "source": [
    "# Usamos AirPassengers como ejemplo\n",
    "serie <- as_tsibble(AirPassengers)\n",
    "\n",
    "autoplot(serie) +\n",
    "  ggtitle(\"Serie original\") +\n",
    "  theme_minimal()"
   ]
  },
  {
   "cell_type": "markdown",
   "metadata": {},
   "source": [
    "<h3>📌 Parte 2: Descomposición</h3>\n",
    "\n",
    "**▶️ Actividad 2: Descomposición aditiva y multiplicativa**\n",
    "\n",
    "- Aplicar `decompose()` con ambos tipos y comparar gráficamente.\n"
   ]
  },
  {
   "cell_type": "code",
   "execution_count": null,
   "metadata": {},
   "outputs": [],
   "source": [
    "serie_ts <- AirPassengers  # objeto ts para decompose()\n",
    "\n",
    "desc_add <- decompose(serie_ts, type = \"additive\")\n",
    "desc_mult <- decompose(serie_ts, type = \"multiplicative\")\n",
    "\n",
    "plot(desc_add)\n",
    "plot(desc_mult)"
   ]
  },
  {
   "cell_type": "markdown",
   "metadata": {},
   "source": [
    "**▶️ Actividad 3: Descomposición STL**"
   ]
  },
  {
   "cell_type": "code",
   "execution_count": null,
   "metadata": {},
   "outputs": [],
   "source": [
    "serie %>%\n",
    "  model(stl_mod = STL(value)) %>%\n",
    "  components() %>%\n",
    "  autoplot() +\n",
    "  ggtitle(\"Descomposición STL\") +\n",
    "  theme_minimal()\n"
   ]
  },
  {
   "cell_type": "markdown",
   "metadata": {},
   "source": [
    "**📌 Pregunta guía:** ¿Cuál descomposición explica mejor los patrones visibles en la serie?"
   ]
  },
  {
   "cell_type": "markdown",
   "metadata": {},
   "source": [
    "<h3> 📌 Parte 3: Medias móviles</h3>\n",
    "\n",
    "**▶️ Actividad 4: Media móvil simple**\n",
    "\n",
    "- Aplicar media móvil centrada con `slider` y visualizar junto a la serie original.\n"
   ]
  },
  {
   "cell_type": "code",
   "execution_count": null,
   "metadata": {},
   "outputs": [],
   "source": [
    "serie %>%\n",
    "  mutate(MMS = slide_dbl(value, mean, .before = 6, .after = 5, .complete = TRUE)) %>%\n",
    "  ggplot(aes(x = index)) +\n",
    "  geom_line(aes(y = value), color = \"gray\") +\n",
    "  geom_line(aes(y = MMS), color = \"blue\") +\n",
    "  labs(title = \"Media Móvil Simple (k = 12)\") +\n",
    "  theme_minimal()"
   ]
  },
  {
   "cell_type": "markdown",
   "metadata": {},
   "source": [
    "**▶️ Actividad 5: Media móvil ponderada**\n",
    "\n",
    "- Definir pesos personalizados y aplicar función con `slide_dbl`.\n"
   ]
  },
  {
   "cell_type": "code",
   "execution_count": null,
   "metadata": {},
   "outputs": [],
   "source": [
    "pesos <- c(3, 2, 1) / 6\n",
    "\n",
    "media_ponderada <- function(x) {\n",
    "  if (length(x) < 3 || any(is.na(x))) return(NA_real_)\n",
    "  sum(tail(x, 3) * rev(pesos))\n",
    "}\n",
    "\n",
    "serie %>%\n",
    "  mutate(MMP = slide_dbl(value, media_ponderada, .before = 2, .complete = TRUE)) %>%\n",
    "  ggplot(aes(x = index)) +\n",
    "  geom_line(aes(y = value), color = \"gray\") +\n",
    "  geom_line(aes(y = MMP), color = \"darkgreen\") +\n",
    "  labs(title = \"Media Móvil Ponderada (k = 3)\") +\n",
    "  theme_minimal()\n"
   ]
  },
  {
   "cell_type": "markdown",
   "metadata": {},
   "source": [
    "<h3>📌 Parte 4: Suavizamiento exponencial</h3>\n",
    "\n",
    "**▶️ Actividad 6: SES y Holt con `forecast`**\n"
   ]
  },
  {
   "cell_type": "code",
   "execution_count": null,
   "metadata": {},
   "outputs": [],
   "source": [
    "modelo_ses <- ses(AirPassengers, h = 12)\n",
    "modelo_holt <- holt(AirPassengers, h = 12)\n",
    "\n",
    "autoplot(modelo_ses) + ggtitle(\"SES (forecast)\") + theme_minimal()\n",
    "autoplot(modelo_holt) + ggtitle(\"Holt (forecast)\") + theme_minimal()\n"
   ]
  },
  {
   "cell_type": "markdown",
   "metadata": {},
   "source": [
    "**▶️ Actividad 7: SES y Holt con `fpp3::ETS()`**"
   ]
  },
  {
   "cell_type": "code",
   "execution_count": null,
   "metadata": {},
   "outputs": [],
   "source": [
    "serie %>%\n",
    "  model(\n",
    "    SES = ETS(value ~ error(\"A\") + trend(\"N\") + season(\"N\")),\n",
    "    Holt = ETS(value ~ error(\"A\") + trend(\"A\") + season(\"N\"))\n",
    "  ) %>%\n",
    "  forecast(h = 12) %>%\n",
    "  autoplot(serie) +\n",
    "  facet_wrap(~.model) +\n",
    "  theme_minimal()\n"
   ]
  },
  {
   "cell_type": "markdown",
   "metadata": {},
   "source": [
    "<h2> 💬 Preguntas para discusión o foro</h2>\n",
    "\n",
    "1. ¿Cuál método suaviza mejor la serie sin perder estructura relevante?\n",
    "2. ¿En qué casos la descomposición clásica falla o se queda corta?\n",
    "3. ¿Qué ventajas prácticas aporta STL frente a las alternativas tradicionales?\n",
    "4. ¿Cuál técnica consideras más útil en tu campo profesional?\n"
   ]
  }
 ],
 "metadata": {
  "kernelspec": {
   "display_name": "R",
   "language": "R",
   "name": "ir"
  },
  "language_info": {
   "codemirror_mode": "r",
   "file_extension": ".r",
   "mimetype": "text/x-r-source",
   "name": "R",
   "pygments_lexer": "r",
   "version": "4.5.0"
  }
 },
 "nbformat": 4,
 "nbformat_minor": 5
}
